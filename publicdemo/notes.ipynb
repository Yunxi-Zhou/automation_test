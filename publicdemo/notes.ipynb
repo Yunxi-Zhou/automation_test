{
 "cells": [
  {
   "cell_type": "markdown",
   "metadata": {},
   "source": [
    "# Day 2"
   ]
  },
  {
   "cell_type": "markdown",
   "metadata": {},
   "source": [
    "1. Interface automation testing -> pytest management framework  \n",
    "python: pytest unittest  \n",
    "java: testing junit  "
   ]
  },
  {
   "cell_type": "markdown",
   "metadata": {},
   "source": [
    "作用  \n",
    "1. 找到用例  \n",
    "    模块名必须以test_开头或者_test结尾  \n",
    "    类名必须以Test开头，不能有init  \n",
    "    用例方法必须以test开头  \n",
    "2. 执行用例  \n",
    "3. 判断结果  \n",
    "4. 生成报告  "
   ]
  },
  {
   "cell_type": "code",
   "execution_count": null,
   "metadata": {},
   "outputs": [],
   "source": [
    "# extension\n",
    "pytest 本身\n",
    "pytest-html 简单的html报告\n",
    "pytest-xdist 多线程执行\n",
    "pytest-ordering 控制用例的执行顺序\n",
    "pytest-rerunfailures 失败用例重跑\n",
    "pytest-base-url 设置基础路径 (开发，测试，生产，预发布)\n",
    "allure-pytest 生成allure报告\n",
    "# install -> pip3 install -r requirements.txt"
   ]
  },
  {
   "cell_type": "markdown",
   "metadata": {},
   "source": [
    "运行:  \n",
    "1. 命令行\n",
    "2. 主函数\n",
    "3. 结合pytest.ini全局配置文件执行"
   ]
  },
  {
   "cell_type": "markdown",
   "metadata": {},
   "source": []
  }
 ],
 "metadata": {
  "kernelspec": {
   "display_name": "Python 3",
   "language": "python",
   "name": "python3"
  },
  "language_info": {
   "name": "python",
   "version": "3.12.1"
  }
 },
 "nbformat": 4,
 "nbformat_minor": 2
}
