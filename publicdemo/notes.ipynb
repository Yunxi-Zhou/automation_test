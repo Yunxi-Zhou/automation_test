{
 "cells": [
  {
   "cell_type": "markdown",
   "metadata": {},
   "source": [
    "# Day 2"
   ]
  },
  {
   "cell_type": "markdown",
   "metadata": {},
   "source": [
    "# 1. Interface automation testing -> pytest management framework  \n",
    "python: pytest unittest  \n",
    "java: testing junit  "
   ]
  },
  {
   "cell_type": "markdown",
   "metadata": {},
   "source": [
    "作用  \n",
    "1. 找到用例  \n",
    "    模块名必须以test_开头或者_test结尾  \n",
    "    类名必须以Test开头，不能有init  \n",
    "    用例方法必须以test开头  \n",
    "2. 执行用例  \n",
    "3. 判断结果  \n",
    "4. 生成报告  "
   ]
  },
  {
   "cell_type": "code",
   "execution_count": null,
   "metadata": {},
   "outputs": [],
   "source": [
    "# extension\n",
    "pytest 本身\n",
    "pytest-html 简单的html报告\n",
    "pytest-xdist 多线程执行\n",
    "pytest-ordering 控制用例的执行顺序\n",
    "pytest-rerunfailures 失败用例重跑\n",
    "pytest-base-url 设置基础路径 (开发，测试，生产，预发布)\n",
    "allure-pytest 生成allure报告\n",
    "# install -> pip3 install -r requirements.txt"
   ]
  },
  {
   "cell_type": "markdown",
   "metadata": {},
   "source": [
    "运行:  \n",
    "1. 命令行  \n",
    "    在命令行输入pytest执行，同时有很多参数可以使用  \n",
    "    -v 输出更详细的信息  \n",
    "    -s 输出调试信息  "
   ]
  },
  {
   "cell_type": "markdown",
   "metadata": {},
   "source": [
    "2. 主函数  "
   ]
  },
  {
   "cell_type": "code",
   "execution_count": null,
   "metadata": {},
   "outputs": [],
   "source": [
    "import pytest\n",
    "\n",
    "if __name__ == '__main__':\n",
    "    pytest.main()"
   ]
  },
  {
   "cell_type": "markdown",
   "metadata": {},
   "source": [
    "3. 结合pytest.ini全局配置文件执行  "
   ]
  },
  {
   "cell_type": "code",
   "execution_count": null,
   "metadata": {},
   "outputs": [],
   "source": [
    "[pytest]\n",
    "# 命令行参数\n",
    "# 常见： --html=./reports/report.html  --reruns 2\n",
    "# -m smoke\n",
    "# -m user_manager\n",
    "addopts = -vs -m \"user_manager or smoke\"\n",
    "# 配置执行的用例位置\n",
    "testpaths = ./testcase\n",
    "# 配置修改默认的模块规则\n",
    "python_files = test_*.py\n",
    "# 配置修改默认的类规则\n",
    "python_classes = Test*\n",
    "# 配置修改默认的用例规则\n",
    "python_functions = test_*\n",
    "# 配置基础路径\n",
    "base_url = http://www.google.com\n",
    "# 标记\n",
    "markers = \n",
    "    smoke: smoke test functions\n",
    "    product_manage: product management\n",
    "    user_manager: user management"
   ]
  },
  {
   "cell_type": "markdown",
   "metadata": {},
   "source": [
    "# 2. Pytest的前后置，固件，夹具\n",
    "Jmeter and Postman: 前置脚本和后置脚本。\n"
   ]
  },
  {
   "cell_type": "code",
   "execution_count": null,
   "metadata": {},
   "outputs": [],
   "source": [
    "# 每个用例之前和之后\n",
    "def setup_method(self):\n",
    "    print(\"before functions request: connect database\")\n",
    "        \n",
    "def teardown_method(self):\n",
    "    print(\"after function request: close database\")\n",
    "    \n",
    "# 每个类之前和之后\n",
    "def setup_class(self):\n",
    "    print(\"before functions request: connect database\")\n",
    "        \n",
    "def teardown_class(self):\n",
    "    print(\"after function request: close database\")"
   ]
  },
  {
   "cell_type": "markdown",
   "metadata": {},
   "source": [
    "# 3. 使用fixtrue固件结合contest.py文件实现前后置\n",
    "装饰器：  \n",
    "@pytest.fixture(scope=\"作用范围\", autouser=\"自动执行\", params=\"参数化\", ids=\"参数别名\", name=\"固件别名\")  \n",
    "scope: function 函数   \n",
    "scope: class 类   \n",
    "scope: module 模块  \n",
    "scope: session 回话   \n",
    "  \n",
    "fixture只在当前文件起作用，需要结合conftest.py\n"
   ]
  },
  {
   "cell_type": "code",
   "execution_count": null,
   "metadata": {},
   "outputs": [],
   "source": [
    "import pytest\n",
    "\n",
    "# fixture 固件\n",
    "@pytest.fixture(scope=\"session\",autouse=False,params=[[\"zhouy218\",\"136671\"],[\"beifan\",\"beifan123\"]],ids=[\"data1\",\"data2\"], name=\"sql\")\n",
    "def exe_sql(request):\n",
    "    print(\"before: execute database\")\n",
    "    yield request.param\n",
    "    print(\"After: close database\")"
   ]
  },
  {
   "cell_type": "markdown",
   "metadata": {},
   "source": [
    "分层前后置:  \n",
    "\n"
   ]
  },
  {
   "cell_type": "markdown",
   "metadata": {},
   "source": [
    "# 4. 接口自动化测试框架封装之通过文件接口关联实现  \n",
    "  "
   ]
  }
 ],
 "metadata": {
  "kernelspec": {
   "display_name": "Python 3",
   "language": "python",
   "name": "python3"
  },
  "language_info": {
   "name": "python",
   "version": "3.12.1"
  }
 },
 "nbformat": 4,
 "nbformat_minor": 2
}
