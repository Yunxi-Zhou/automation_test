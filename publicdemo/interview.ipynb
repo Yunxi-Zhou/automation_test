{
 "cells": [
  {
   "cell_type": "code",
   "execution_count": 5,
   "metadata": {},
   "outputs": [
    {
     "name": "stdout",
     "output_type": "stream",
     "text": [
      "Function add called with arguments: (3, 5)\n",
      "Function add returned: 8\n"
     ]
    },
    {
     "data": {
      "text/plain": [
       "8"
      ]
     },
     "execution_count": 5,
     "metadata": {},
     "output_type": "execute_result"
    }
   ],
   "source": [
    "def log_decorator(func):\n",
    "    def wrapper(*args, **kwargs):\n",
    "        print(f\"Function {func.__name__} called with arguments: {args}\")\n",
    "        result = func(*args, **kwargs)\n",
    "        print(f\"Function {func.__name__} returned: {result}\")\n",
    "        return result \n",
    "    return wrapper\n",
    "\n",
    "@log_decorator\n",
    "def add(x, y):\n",
    "    return x + y\n",
    "\n",
    "add(3,5)"
   ]
  },
  {
   "cell_type": "code",
   "execution_count": 6,
   "metadata": {},
   "outputs": [
    {
     "name": "stdout",
     "output_type": "stream",
     "text": [
      "[1, 4, 7, 10]\n"
     ]
    }
   ],
   "source": [
    "from itertools import islice\n",
    "lis = [1,2,3,4,5,6,7,8,9,10]\n",
    "print(list(islice(lis, 0, len(lis), 3)))"
   ]
  },
  {
   "cell_type": "code",
   "execution_count": 10,
   "metadata": {},
   "outputs": [
    {
     "name": "stdout",
     "output_type": "stream",
     "text": [
      "[10, 9, 8, 7, 6, 5, 4, 3, 2, 1]\n"
     ]
    },
    {
     "data": {
      "text/plain": [
       "[10, 9, 8, 7, 6, 5, 4, 3, 2, 1]"
      ]
     },
     "execution_count": 10,
     "metadata": {},
     "output_type": "execute_result"
    }
   ],
   "source": [
    "lst = [1,2,3,4,5,6,7,8,9,10]\n",
    "print(lst[::-1])\n",
    "list(reversed(lst))"
   ]
  },
  {
   "cell_type": "code",
   "execution_count": 11,
   "metadata": {},
   "outputs": [],
   "source": [
    "# How to reverse a linked list?\n",
    "class Node:\n",
    "    def __init__(self, val):\n",
    "        self.val = val\n",
    "        self.next = None\n",
    "    \n",
    "    # linked list1: 1->2->3->4->None  \n",
    "    # when head == none return prev\n",
    "    # linked list2: 4->3->2->1->None   prev\n",
    "    \n",
    "    # head.prev = none -> head = 1 -> head.next = 2\n",
    "    \n",
    "    def reverse_list(head):\n",
    "        prev = None\n",
    "        while head:\n",
    "            next_node = head.next\n",
    "            head.next = prev\n",
    "            prev = head\n",
    "            head = next_node\n",
    "        return prev\n",
    "\n",
    "    "
   ]
  },
  {
   "cell_type": "code",
   "execution_count": null,
   "metadata": {},
   "outputs": [],
   "source": [
    "# Reverse a String without using built-in Method\n",
    "\n",
    "def reverse_string(str):\n",
    "    s = list(str)\n",
    "    left = len(s) - 1\n",
    "    right = 0\n",
    "    \n",
    "    while right <= left:\n",
    "        s[left],s[right] = s[right],s[left]\n",
    "        left -= 1\n",
    "        right += 1\n",
    "    "
   ]
  },
  {
   "cell_type": "code",
   "execution_count": null,
   "metadata": {},
   "outputs": [],
   "source": [
    "#two sum\n",
    "class Solution:\n",
    "    def twoSum(self, nums: list[int], target: int) -> list[int]:\n",
    "        reverse = {}\n",
    "        for i, num in enumerate(nums):\n",
    "            if target - num in reverse:\n",
    "                return [i, reverse[target - num]]\n",
    "            reverse[num] = i"
   ]
  },
  {
   "cell_type": "code",
   "execution_count": 25,
   "metadata": {},
   "outputs": [
    {
     "name": "stdout",
     "output_type": "stream",
     "text": [
      "[1, 2, 2, 3, 5, 6]\n"
     ]
    }
   ],
   "source": [
    "# merge sorted array\n",
    "# nums1 nums2 with first m elements and last n elements\n",
    "# merge together ignore 0 -> modify nums1 in-place instead\n",
    "class Solution:\n",
    "    def merge(self, nums1:list[int], m:int, nums2:list[int], n:int) -> None:\n",
    "        nums1[m:] = nums2[:n]\n",
    "        nums1.sort()\n",
    "        \n",
    "nums1 = [1,2,3,0,0,0]\n",
    "m=3\n",
    "nums2 = [2,5,6]\n",
    "n=3\n",
    "\n",
    "Solution().merge(nums1,m,nums2,n)\n",
    "print(nums1)"
   ]
  },
  {
   "cell_type": "code",
   "execution_count": null,
   "metadata": {},
   "outputs": [],
   "source": [
    "#best time to buy stock\n",
    "class Solution:\n",
    "    def maxProfit(self, prices: list[int]) -> int:\n",
    "        if not prices:\n",
    "            return 0\n",
    "        min_p = float('inf')\n",
    "        max_p = 0\n",
    "        for p in prices:\n",
    "            min_p = min(min_p,p)\n",
    "            max_p = max(max_p, p-min_p)\n",
    "        return max_p\n",
    "\n"
   ]
  },
  {
   "cell_type": "code",
   "execution_count": 27,
   "metadata": {},
   "outputs": [],
   "source": [
    "# merge strings alternately\n",
    "class Solution:\n",
    "    def mergeAlternately(self, word1: str, word2: str) -> str:\n",
    "        result = []\n",
    "        len1 = len(word1)\n",
    "        len2 = len(word2)\n",
    "\n",
    "        for i in range(max(len1, len2)):\n",
    "            if i < len1:\n",
    "                result.append(word1[i])\n",
    "            if i < len2:\n",
    "                result.append(word2[i])\n",
    "        return ''.join(result)"
   ]
  },
  {
   "cell_type": "code",
   "execution_count": 28,
   "metadata": {},
   "outputs": [],
   "source": [
    "# Longest Common Prefix\n",
    "class Solution:\n",
    "    def longestCommonPrefix(self, strs: list[str]) -> str:\n",
    "        pref = strs[0]\n",
    "        pref_len = len(pref)\n",
    "        for s in strs[1:]:\n",
    "            while pref != s[0:pref_len]:\n",
    "                pref_len -= 1\n",
    "                if pref_len == 0:\n",
    "                    return \"\"\n",
    "                pref = pref[:pref_len]\n",
    "        return pref"
   ]
  },
  {
   "cell_type": "code",
   "execution_count": 29,
   "metadata": {},
   "outputs": [],
   "source": [
    "# Definition for singly-linked list.\n",
    "from typing import Optional\n",
    "\n",
    "\n",
    "class ListNode:\n",
    "    def __init__(self, val=0, next=None):\n",
    "        self.val = val\n",
    "        self.next = next\n",
    "class Solution:\n",
    "    def mergeTwoLists(self, list1: Optional[ListNode], list2: Optional[ListNode]) -> Optional[ListNode]:\n",
    "        # create a empty linked list\n",
    "        # dummy stores the value of linked list\n",
    "        # cur stores the value of node\n",
    "        \n",
    "        dummy = ListNode()\n",
    "        cur = dummy\n",
    "\n",
    "        # compare if list1 node1 and list2 node both exists\n",
    "        while list1 and list2:\n",
    "            if list1.val > list2.val:\n",
    "                cur.next = list2\n",
    "                list2 = list2.val\n",
    "            else:\n",
    "                cur.next = list1\n",
    "                list1 = list1.val\n",
    "            cur = cur.next\n",
    "        #at last for last node only two situation list1 node or list2 node i.e\n",
    "        if list1:\n",
    "            cur.next = list1\n",
    "        else:\n",
    "            cur.next = list2\n",
    "        # return the value of dummy\n",
    "        return dummy.next\n",
    "                \n",
    "            \n",
    "        "
   ]
  },
  {
   "cell_type": "code",
   "execution_count": null,
   "metadata": {},
   "outputs": [],
   "source": [
    "class Solution:\n",
    "    def climbStairs(self, n: int) -> int:\n",
    "        if n <= 3: return n\n",
    "\n",
    "        prev1 = 3\n",
    "        prev2 = 2\n",
    "        cur = 0\n",
    "        \n",
    "        for _ in range(3,n):\n",
    "            cur = prev1 + prev2\n",
    "            prev2 = prev1\n",
    "            prev1 = cur\n",
    "        return cur"
   ]
  },
  {
   "cell_type": "code",
   "execution_count": null,
   "metadata": {},
   "outputs": [],
   "source": [
    "class Solution:\n",
    "    def removeDuplicates(self, nums: list[int]) -> int:\n",
    "        j = 1\n",
    "        for i in range(1,len(nums)):\n",
    "            if nums[i] != nums[i-1]:\n",
    "                nums[j]=nums[i]\n",
    "                j += 1\n",
    "        return j"
   ]
  }
 ],
 "metadata": {
  "kernelspec": {
   "display_name": "Python 3",
   "language": "python",
   "name": "python3"
  },
  "language_info": {
   "codemirror_mode": {
    "name": "ipython",
    "version": 3
   },
   "file_extension": ".py",
   "mimetype": "text/x-python",
   "name": "python",
   "nbconvert_exporter": "python",
   "pygments_lexer": "ipython3",
   "version": "3.12.1"
  }
 },
 "nbformat": 4,
 "nbformat_minor": 2
}
